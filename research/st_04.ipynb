{
 "cells": [
  {
   "cell_type": "code",
   "execution_count": 3,
   "metadata": {},
   "outputs": [
    {
     "data": {
      "text/plain": [
       "'c:\\\\Users\\\\hp\\\\Documents\\\\ML_Intern'"
      ]
     },
     "execution_count": 3,
     "metadata": {},
     "output_type": "execute_result"
    }
   ],
   "source": [
    "import os\n",
    "os.chdir(\"../\")\n",
    "os.getcwd()"
   ]
  },
  {
   "cell_type": "code",
   "execution_count": 4,
   "metadata": {},
   "outputs": [],
   "source": [
    "from Concrete_CS.constant import *\n",
    "from Concrete_CS.utils import read_yaml, create_directories"
   ]
  },
  {
   "cell_type": "code",
   "execution_count": 5,
   "metadata": {},
   "outputs": [],
   "source": [
    "from dataclasses import dataclass\n",
    "from pathlib import Path\n",
    "\n",
    "@dataclass(frozen= True)\n",
    "class ModelTrainerConfig:\n",
    "    root_dir: Path\n",
    "    training_features_path: Path\n",
    "    training_target_path: Path\n",
    "    testing_features_path: Path\n",
    "    testing_target_path: Path\n",
    "    saved_file: Path\n",
    "    n_estimators: list\n",
    "    max_features: list\n",
    "    max_depth: list\n",
    "    min_samples_split: list\n",
    "    min_samples_leaf: list\n",
    "    scoring: str\n",
    "    n_iter: int\n",
    "    cv: int\n",
    "    verbose: int\n",
    "    random_state: int\n",
    "   "
   ]
  },
  {
   "cell_type": "code",
   "execution_count": 6,
   "metadata": {},
   "outputs": [],
   "source": [
    "class ConfigurationManager:\n",
    "    def __init__(self,\n",
    "                config_filepath= CONFIG_FILE_PATH,\n",
    "                params_filepath= PARAMS_FILE_PATH):\n",
    "                self.config= read_yaml(config_filepath)\n",
    "                self.params= read_yaml(params_filepath)\n",
    "                create_directories([self.config.artifacts_root])\n",
    "    def get_model_trainer_config(self)-> ModelTrainerConfig:\n",
    "        config= self.config.model_trainer\n",
    "        create_directories([config.root_dir])\n",
    "\n",
    "        model_trainer_config= ModelTrainerConfig(\n",
    "                              root_dir= Path(config.root_dir),\n",
    "                              training_features_path= Path(config.training_features_path),\n",
    "                              training_target_path= Path(config.training_target_path),\n",
    "                              testing_features_path= Path(config.testing_features_path),\n",
    "                              testing_target_path= Path(config.testing_target_path),\n",
    "                              saved_file= Path(config.saved_file),\n",
    "                              n_estimators= list(self.params.randomized_search.params.n_estimators),\n",
    "                              max_features= list(self.params.randomized_search.params.max_features),\n",
    "                              max_depth= list(self.params.randomized_search.params.max_depth),\n",
    "                              min_samples_split= list(self.params.randomized_search.params.min_samples_split),\n",
    "                              min_samples_leaf= list(self.params.randomized_search.params.min_samples_leaf),\n",
    "                              scoring= str(self.params.randomized_search.scoring),\n",
    "                              n_iter= int(self.params.randomized_search.n_iter),\n",
    "                              cv= int(self.params.randomized_search.cv),\n",
    "                              verbose= int(self.params.randomized_search.verbose),\n",
    "                              random_state= int(self.params.randomized_search.random_state),\n",
    "                              )\n",
    "        return model_trainer_config\n"
   ]
  },
  {
   "cell_type": "code",
   "execution_count": 7,
   "metadata": {},
   "outputs": [],
   "source": [
    "import pandas as pd\n",
    "import numpy as np\n",
    "import pickle\n",
    "from sklearn.preprocessing import StandardScaler\n",
    "from sklearn.linear_model import LinearRegression\n",
    "from sklearn.ensemble import RandomForestRegressor\n",
    "from sklearn.metrics import mean_squared_error\n",
    "from sklearn.model_selection import RandomizedSearchCV\n",
    "\n",
    "\n",
    "class ModelTrainer:\n",
    "    def __init__(self, config: ModelTrainerConfig):\n",
    "        self.config= config\n",
    "        self.testing_features= pd.read_csv(self.config.testing_features_path)\n",
    "        self.real_values= pd.read_csv(self.config.testing_target_path).iloc[:,1]\n",
    "    def load_training_data(self):\n",
    "        features_set= pd.read_csv(self.config.training_features_path)\n",
    "        target_set= pd.read_csv(self.config.training_target_path)\n",
    "        features_set[target_set.columns]=target_set\n",
    "        return features_set\n",
    "    def by_linear_regression(self):\n",
    "        linear_reg= LinearRegression()\n",
    "        linear_reg.fit(self.load_training_data().iloc[:,:-1], self.load_training_data().iloc[:,-1])\n",
    "        predicted_values= pd.DataFrame(linear_reg.predict(self.testing_features))\n",
    "        squared_error= mean_squared_error(predicted_values, self.real_values)\n",
    "        error= np.sqrt(squared_error)\n",
    "        return linear_reg\n",
    "    def by_random_forest(self):\n",
    "        rf= RandomForestRegressor()\n",
    "        n_estimators= self.config.n_estimators\n",
    "        max_features= self.config.max_features\n",
    "        max_depth= self.config.max_depth\n",
    "        min_samples_split= self.config.min_samples_split\n",
    "        min_samples_leaf= self.config.min_samples_leaf\n",
    "        random_grid= {\n",
    "                      \"n_estimators\": n_estimators,\n",
    "                      \"max_features\": max_features,\n",
    "                      \"max_depth\": max_depth,\n",
    "                      \"min_samples_split\": min_samples_split,\n",
    "                      \"min_samples_leaf\": min_samples_leaf\n",
    "                     }\n",
    "        scoring= self.config.scoring\n",
    "        n_iter= self.config.n_iter\n",
    "        cv= self.config.cv\n",
    "        verbose= self.config.verbose\n",
    "        random_state= self.config.random_state\n",
    "        RF_Random= RandomizedSearchCV(\n",
    "                                      estimator= rf,\n",
    "                                      param_distributions= random_grid,\n",
    "                                      scoring= scoring,\n",
    "                                      n_iter= n_iter,\n",
    "                                      cv= cv,\n",
    "                                      verbose= verbose,\n",
    "                                      random_state= random_state\n",
    "                                     )\n",
    "        RF_Random.fit(self.load_training_data().iloc[:,:-1], self.load_training_data().iloc[:,-1])\n",
    "        predicted_values= pd.DataFrame(RF_Random.predict(self.testing_features))\n",
    "        squared_error= mean_squared_error(predicted_values, self.real_values)\n",
    "        error= np.sqrt(squared_error)\n",
    "        return RF_Random\n",
    "    def save_file(self):\n",
    "        random_forest= self.by_random_forest()\n",
    "        file= open(self.config.saved_file, \"wb\")\n",
    "        pickle.dump(random_forest, file)\n",
    "   \n"
   ]
  },
  {
   "cell_type": "code",
   "execution_count": 9,
   "metadata": {},
   "outputs": [
    {
     "ename": "BoxKeyError",
     "evalue": "\"'ConfigBox' object has no attribute 'mlflow_uri'\"",
     "output_type": "error",
     "traceback": [
      "\u001b[1;31m---------------------------------------------------------------------------\u001b[0m",
      "\u001b[1;31mKeyError\u001b[0m                                  Traceback (most recent call last)",
      "File \u001b[1;32mc:\\Users\\hp\\anaconda3\\envs\\conc\\lib\\site-packages\\box\\box.py:504\u001b[0m, in \u001b[0;36mbox.box.Box.__getitem__\u001b[1;34m()\u001b[0m\n",
      "\u001b[1;31mKeyError\u001b[0m: 'mlflow_uri'",
      "\nThe above exception was the direct cause of the following exception:\n",
      "\u001b[1;31mBoxKeyError\u001b[0m                               Traceback (most recent call last)",
      "File \u001b[1;32mc:\\Users\\hp\\anaconda3\\envs\\conc\\lib\\site-packages\\box\\box.py:537\u001b[0m, in \u001b[0;36mbox.box.Box.__getattr__\u001b[1;34m()\u001b[0m\n",
      "File \u001b[1;32mc:\\Users\\hp\\anaconda3\\envs\\conc\\lib\\site-packages\\box\\box.py:525\u001b[0m, in \u001b[0;36mbox.box.Box.__getitem__\u001b[1;34m()\u001b[0m\n",
      "\u001b[1;31mBoxKeyError\u001b[0m: \"'mlflow_uri'\"",
      "\nDuring handling of the above exception, another exception occurred:\n",
      "\u001b[1;31mAttributeError\u001b[0m                            Traceback (most recent call last)",
      "File \u001b[1;32mc:\\Users\\hp\\anaconda3\\envs\\conc\\lib\\site-packages\\box\\box.py:539\u001b[0m, in \u001b[0;36mbox.box.Box.__getattr__\u001b[1;34m()\u001b[0m\n",
      "\u001b[1;31mAttributeError\u001b[0m: 'ConfigBox' object has no attribute 'mlflow_uri'",
      "\nThe above exception was the direct cause of the following exception:\n",
      "\u001b[1;31mBoxKeyError\u001b[0m                               Traceback (most recent call last)",
      "File \u001b[1;32mc:\\Users\\hp\\anaconda3\\envs\\conc\\lib\\site-packages\\box\\config_box.py:28\u001b[0m, in \u001b[0;36mbox.config_box.ConfigBox.__getattr__\u001b[1;34m()\u001b[0m\n",
      "File \u001b[1;32mc:\\Users\\hp\\anaconda3\\envs\\conc\\lib\\site-packages\\box\\box.py:553\u001b[0m, in \u001b[0;36mbox.box.Box.__getattr__\u001b[1;34m()\u001b[0m\n",
      "\u001b[1;31mBoxKeyError\u001b[0m: \"'ConfigBox' object has no attribute 'mlflow_uri'\"",
      "\nDuring handling of the above exception, another exception occurred:\n",
      "\u001b[1;31mKeyError\u001b[0m                                  Traceback (most recent call last)",
      "File \u001b[1;32mc:\\Users\\hp\\anaconda3\\envs\\conc\\lib\\site-packages\\box\\box.py:504\u001b[0m, in \u001b[0;36mbox.box.Box.__getitem__\u001b[1;34m()\u001b[0m\n",
      "\u001b[1;31mKeyError\u001b[0m: 'mlflow_uri'",
      "\nThe above exception was the direct cause of the following exception:\n",
      "\u001b[1;31mBoxKeyError\u001b[0m                               Traceback (most recent call last)",
      "File \u001b[1;32mc:\\Users\\hp\\anaconda3\\envs\\conc\\lib\\site-packages\\box\\box.py:537\u001b[0m, in \u001b[0;36mbox.box.Box.__getattr__\u001b[1;34m()\u001b[0m\n",
      "File \u001b[1;32mc:\\Users\\hp\\anaconda3\\envs\\conc\\lib\\site-packages\\box\\box.py:525\u001b[0m, in \u001b[0;36mbox.box.Box.__getitem__\u001b[1;34m()\u001b[0m\n",
      "\u001b[1;31mBoxKeyError\u001b[0m: \"'mlflow_uri'\"",
      "\nDuring handling of the above exception, another exception occurred:\n",
      "\u001b[1;31mAttributeError\u001b[0m                            Traceback (most recent call last)",
      "File \u001b[1;32mc:\\Users\\hp\\anaconda3\\envs\\conc\\lib\\site-packages\\box\\box.py:539\u001b[0m, in \u001b[0;36mbox.box.Box.__getattr__\u001b[1;34m()\u001b[0m\n",
      "\u001b[1;31mAttributeError\u001b[0m: 'ConfigBox' object has no attribute 'mlflow_uri'",
      "\nThe above exception was the direct cause of the following exception:\n",
      "\u001b[1;31mBoxKeyError\u001b[0m                               Traceback (most recent call last)",
      "Cell \u001b[1;32mIn [9], line 2\u001b[0m\n\u001b[0;32m      1\u001b[0m config\u001b[39m=\u001b[39m ConfigurationManager()\n\u001b[1;32m----> 2\u001b[0m model_trainer_config\u001b[39m=\u001b[39m config\u001b[39m.\u001b[39;49mget_model_trainer_config()\n\u001b[0;32m      3\u001b[0m model_trainer\u001b[39m=\u001b[39m ModelTrainer(config\u001b[39m=\u001b[39m model_trainer_config)\n\u001b[0;32m      4\u001b[0m model_trainer\u001b[39m.\u001b[39msave_file()\n",
      "Cell \u001b[1;32mIn [6], line 30\u001b[0m, in \u001b[0;36mConfigurationManager.get_model_trainer_config\u001b[1;34m(self)\u001b[0m\n\u001b[0;32m      9\u001b[0m config\u001b[39m=\u001b[39m \u001b[39mself\u001b[39m\u001b[39m.\u001b[39mconfig\u001b[39m.\u001b[39mmodel_trainer\n\u001b[0;32m     10\u001b[0m create_directories([config\u001b[39m.\u001b[39mroot_dir])\n\u001b[0;32m     12\u001b[0m model_trainer_config\u001b[39m=\u001b[39m ModelTrainerConfig(\n\u001b[0;32m     13\u001b[0m                       root_dir\u001b[39m=\u001b[39m Path(config\u001b[39m.\u001b[39mroot_dir),\n\u001b[0;32m     14\u001b[0m                       training_features_path\u001b[39m=\u001b[39m Path(config\u001b[39m.\u001b[39mtraining_features_path),\n\u001b[0;32m     15\u001b[0m                       training_target_path\u001b[39m=\u001b[39m Path(config\u001b[39m.\u001b[39mtraining_target_path),\n\u001b[0;32m     16\u001b[0m                       testing_features_path\u001b[39m=\u001b[39m Path(config\u001b[39m.\u001b[39mtesting_features_path),\n\u001b[0;32m     17\u001b[0m                       testing_target_path\u001b[39m=\u001b[39m Path(config\u001b[39m.\u001b[39mtesting_target_path),\n\u001b[0;32m     18\u001b[0m                       saved_file\u001b[39m=\u001b[39m Path(config\u001b[39m.\u001b[39msaved_file),\n\u001b[0;32m     19\u001b[0m                       n_estimators\u001b[39m=\u001b[39m \u001b[39mlist\u001b[39m(\u001b[39mself\u001b[39m\u001b[39m.\u001b[39mparams\u001b[39m.\u001b[39mrandomized_search\u001b[39m.\u001b[39mparams\u001b[39m.\u001b[39mn_estimators),\n\u001b[0;32m     20\u001b[0m                       max_features\u001b[39m=\u001b[39m \u001b[39mlist\u001b[39m(\u001b[39mself\u001b[39m\u001b[39m.\u001b[39mparams\u001b[39m.\u001b[39mrandomized_search\u001b[39m.\u001b[39mparams\u001b[39m.\u001b[39mmax_features),\n\u001b[0;32m     21\u001b[0m                       max_depth\u001b[39m=\u001b[39m \u001b[39mlist\u001b[39m(\u001b[39mself\u001b[39m\u001b[39m.\u001b[39mparams\u001b[39m.\u001b[39mrandomized_search\u001b[39m.\u001b[39mparams\u001b[39m.\u001b[39mmax_depth),\n\u001b[0;32m     22\u001b[0m                       min_samples_split\u001b[39m=\u001b[39m \u001b[39mlist\u001b[39m(\u001b[39mself\u001b[39m\u001b[39m.\u001b[39mparams\u001b[39m.\u001b[39mrandomized_search\u001b[39m.\u001b[39mparams\u001b[39m.\u001b[39mmin_samples_split),\n\u001b[0;32m     23\u001b[0m                       min_samples_leaf\u001b[39m=\u001b[39m \u001b[39mlist\u001b[39m(\u001b[39mself\u001b[39m\u001b[39m.\u001b[39mparams\u001b[39m.\u001b[39mrandomized_search\u001b[39m.\u001b[39mparams\u001b[39m.\u001b[39mmin_samples_leaf),\n\u001b[0;32m     24\u001b[0m                       scoring\u001b[39m=\u001b[39m \u001b[39mstr\u001b[39m(\u001b[39mself\u001b[39m\u001b[39m.\u001b[39mparams\u001b[39m.\u001b[39mrandomized_search\u001b[39m.\u001b[39mscoring),\n\u001b[0;32m     25\u001b[0m                       n_iter\u001b[39m=\u001b[39m \u001b[39mint\u001b[39m(\u001b[39mself\u001b[39m\u001b[39m.\u001b[39mparams\u001b[39m.\u001b[39mrandomized_search\u001b[39m.\u001b[39mn_iter),\n\u001b[0;32m     26\u001b[0m                       cv\u001b[39m=\u001b[39m \u001b[39mint\u001b[39m(\u001b[39mself\u001b[39m\u001b[39m.\u001b[39mparams\u001b[39m.\u001b[39mrandomized_search\u001b[39m.\u001b[39mcv),\n\u001b[0;32m     27\u001b[0m                       verbose\u001b[39m=\u001b[39m \u001b[39mint\u001b[39m(\u001b[39mself\u001b[39m\u001b[39m.\u001b[39mparams\u001b[39m.\u001b[39mrandomized_search\u001b[39m.\u001b[39mverbose),\n\u001b[0;32m     28\u001b[0m                       random_state\u001b[39m=\u001b[39m \u001b[39mint\u001b[39m(\u001b[39mself\u001b[39m\u001b[39m.\u001b[39mparams\u001b[39m.\u001b[39mrandomized_search\u001b[39m.\u001b[39mrandom_state),\n\u001b[0;32m     29\u001b[0m                       all_params\u001b[39m=\u001b[39m \u001b[39mdict\u001b[39m(\u001b[39mself\u001b[39m\u001b[39m.\u001b[39mparams\u001b[39m.\u001b[39mrandomized_search\u001b[39m.\u001b[39mparams),\n\u001b[1;32m---> 30\u001b[0m                       mlflow_uri\u001b[39m=\u001b[39m \u001b[39mstr\u001b[39m(\u001b[39mself\u001b[39;49m\u001b[39m.\u001b[39;49mconfig\u001b[39m.\u001b[39;49mmlflow_uri)\n\u001b[0;32m     31\u001b[0m                       )\n\u001b[0;32m     32\u001b[0m \u001b[39mreturn\u001b[39;00m model_trainer_config\n",
      "File \u001b[1;32mc:\\Users\\hp\\anaconda3\\envs\\conc\\lib\\site-packages\\box\\config_box.py:30\u001b[0m, in \u001b[0;36mbox.config_box.ConfigBox.__getattr__\u001b[1;34m()\u001b[0m\n",
      "File \u001b[1;32mc:\\Users\\hp\\anaconda3\\envs\\conc\\lib\\site-packages\\box\\box.py:553\u001b[0m, in \u001b[0;36mbox.box.Box.__getattr__\u001b[1;34m()\u001b[0m\n",
      "\u001b[1;31mBoxKeyError\u001b[0m: \"'ConfigBox' object has no attribute 'mlflow_uri'\""
     ]
    }
   ],
   "source": [
    "config= ConfigurationManager()\n",
    "model_trainer_config= config.get_model_trainer_config()\n",
    "model_trainer= ModelTrainer(config= model_trainer_config)\n",
    "model_trainer.save_file()"
   ]
  },
  {
   "cell_type": "code",
   "execution_count": null,
   "metadata": {},
   "outputs": [],
   "source": []
  }
 ],
 "metadata": {
  "kernelspec": {
   "display_name": "Python 3.8.13 ('conc')",
   "language": "python",
   "name": "python3"
  },
  "language_info": {
   "codemirror_mode": {
    "name": "ipython",
    "version": 3
   },
   "file_extension": ".py",
   "mimetype": "text/x-python",
   "name": "python",
   "nbconvert_exporter": "python",
   "pygments_lexer": "ipython3",
   "version": "3.8.13"
  },
  "orig_nbformat": 4,
  "vscode": {
   "interpreter": {
    "hash": "0246f346ddc1d1d12967fcdbc987f11186d770330a147420d6c4bc9a290d4ae5"
   }
  }
 },
 "nbformat": 4,
 "nbformat_minor": 2
}
